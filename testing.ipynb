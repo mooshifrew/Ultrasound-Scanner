{
 "cells": [
  {
   "cell_type": "code",
   "execution_count": null,
   "metadata": {},
   "outputs": [],
   "source": [
    "import numpy as np\n",
    "import matplotlib.pyplot as plt\n",
    "from scipy.signal import convolve2d"
   ]
  },
  {
   "cell_type": "code",
   "execution_count": null,
   "metadata": {},
   "outputs": [],
   "source": [
    "delimiter = 9999.0\n",
    "\n",
    "maxDistance = 20\n",
    "minDistance = 0\n",
    "sensor2CenterDistance = 10.3\n",
    "\n",
    "dtheta = 1.8\n",
    "dz = 0.1\n",
    "\n",
    "raw_data = []\n",
    "\n",
    "with open('farmer.txt') as f:\n",
    "    [raw_data.append(float(line.strip())) for line in f.readlines()]\n",
    "\n",
    "raw_data = np.array(raw_data)\n",
    "print(raw_data)\n",
    "\n",
    "raw_data = np.array(raw_data)\n",
    "raw_data[raw_data<0] = 0\n",
    "indices = np.where(raw_data==delimiter)\n",
    "indices = indices[0]\n",
    "\n",
    "r = np.zeros((len(indices)-1, indices[0]))\n",
    "\n",
    "r[0,:] = raw_data[0:indices[0]]\n",
    "for i in range(1,len(indices)-1):\n",
    "    r[i,:] = raw_data[indices[i-1]+1:indices[i]]\n",
    "\n",
    "# distances converted to radius measurements\n",
    "r = sensor2CenterDistance - r\n",
    "\n",
    "# matrix of theta values same shape as r\n",
    "theta = np.arange(0, r.shape[1]*dtheta, dtheta)\n",
    "theta = np.tile(theta, (r.shape[0], 1))\n",
    "\n",
    "# matrix of z values same shape as r\n",
    "z = np.arange(start=0, stop=r.shape[0]*dz, step=dz)\n",
    "z = np.transpose(np.tile(z, (r.shape[1], 1)))\n",
    "\n",
    "# cylindrical to cartesian \n",
    "x = r*np.cos(np.deg2rad(theta))\n",
    "y = r*np.sin(np.deg2rad(theta))\n"
   ]
  },
  {
   "cell_type": "code",
   "execution_count": null,
   "metadata": {},
   "outputs": [],
   "source": [
    "for i in range(0, x.shape[0]):\n",
    "    if np.sum(np.isnan(x[i, :]))==x.shape[1]:\n",
    "        x[i:, :]=[]\n",
    "        y[i:, :]= []\n",
    "        z[i:, :]= []\n",
    "        break\n",
    "\n",
    "for i in range(0, x.shape[0]):\n",
    "    lastIdx = np.argmax(~np.isnan(x[i,:]))\n",
    "    lastX = x[i, lastIdx]\n",
    "    lastY = y[i, lastIdx]\n",
    "    for j in range(0, x.shape[1]):\n",
    "        if ~np.isnan(x[i,j]):\n",
    "            lastX = x[i,j]\n",
    "            lastY = y[i,j]\n",
    "        else:\n",
    "            x[i,j] = lastX\n",
    "            y[i,j] = lastY\n",
    "\n",
    "    \n",
    "interpIdx = np.arange(0, x.shape[0], 1)\n",
    "xInterp = x[interpIdx, :]\n",
    "yInterp = y[interpIdx, :]\n",
    "zInterp = z[interpIdx, :]\n",
    "\n",
    "window_size = 2\n",
    "\n",
    "h = np.ones((window_size, window_size))/ (window_size**2)\n",
    "\n",
    "# symmetric padding along rows\n",
    "xInterp = np.pad(xInterp, ((0,0), (window_size, window_size)), mode='symmetric')\n",
    "yInterp = np.pad(yInterp, ((0,0), (window_size, window_size)), mode='symmetric')\n",
    "\n",
    "xInterp = convolve2d(xInterp, h)\n",
    "yInterp = convolve2d(yInterp, h)\n",
    "\n",
    "xInterp = xInterp[:, window_size:-window_size]\n",
    "yInterp = yInterp[:, window_size:-window_size]\n",
    "\n",
    "\n",
    "xInterp[:, -1]=xInterp[:, 0]\n",
    "yInterp[:, -1]=yInterp[:, 0]\n",
    "zInterp[:, -1]=zInterp[:, 0]\n",
    "\n",
    "xTop = np.mean(xInterp[-1, :])\n",
    "yTop = np.mean(yInterp[-1, :])\n",
    "zTop = zInterp[-1, 0]\n",
    "\n",
    "pc_list = list(zip(xInterp.flatten(), yInterp.flatten(), zInterp.flatten()))\n",
    "pc_list.append((xTop, yTop, zTop))\n",
    "\n",
    "pc_data = np.array(pc_list)"
   ]
  },
  {
   "cell_type": "code",
   "execution_count": null,
   "metadata": {},
   "outputs": [],
   "source": [
    "print(z.shape)\n",
    "print(x.shape)\n",
    "print(y.shape)"
   ]
  },
  {
   "cell_type": "markdown",
   "metadata": {},
   "source": [
    "# Plotting - with PyVista"
   ]
  },
  {
   "cell_type": "code",
   "execution_count": null,
   "metadata": {},
   "outputs": [],
   "source": [
    "import numpy as np\n",
    "import pyvista as pv\n",
    "from scipy.signal import convolve2d\n",
    "from matplotlib import pyplot as plt"
   ]
  },
  {
   "cell_type": "code",
   "execution_count": null,
   "metadata": {},
   "outputs": [],
   "source": [
    "# scan conversion variables\n",
    "maxDistance = 18.0 # [cm]\n",
    "minDistance =  2.0 # [cm]\n",
    "sensor2CenterDistance = 8.7 #[cm]\n",
    "\n",
    "txPerScan = 5\n",
    "delimiter = 1234.00\n",
    "dtheta = 18\n",
    "dz = 0.5"
   ]
  },
  {
   "cell_type": "code",
   "execution_count": null,
   "metadata": {},
   "outputs": [],
   "source": [
    "raw_data = np.loadtxt('pleasework.txt') \n",
    "raw_data[raw_data<minDistance] = None\n",
    "indices = np.where(raw_data==delimiter)\n",
    "raw_data[raw_data>maxDistance]= None #maxDistance\n",
    "indices = indices[0]"
   ]
  },
  {
   "cell_type": "code",
   "execution_count": null,
   "metadata": {},
   "outputs": [],
   "source": [
    "neg_pos = theta[np.where(r<0)] \n",
    "indices = np.where(r<0)\n",
    "indices\n",
    "\n"
   ]
  },
  {
   "cell_type": "code",
   "execution_count": null,
   "metadata": {},
   "outputs": [],
   "source": [
    "r_unprocessed = np.zeros((len(indices)-1, indices[0]//txPerScan, txPerScan))\n",
    "r = np.zeros((len(indices)-1, indices[0]//txPerScan))\n",
    "\n",
    "for z in range(r_unprocessed.shape[0]):\n",
    "    for theta in range(r_unprocessed.shape[1]):\n",
    "        for scan in range(r_unprocessed.shape[2]):\n",
    "            r_unprocessed[z, theta, scan] = raw_data[z*r_unprocessed.shape[1] + theta*r_unprocessed.shape[2] + scan]\n",
    "\n",
    "# averaging\n",
    "for z in range(0, r_unprocessed.shape[0]):\n",
    "    for theta in range(0, r_unprocessed.shape[1]):\n",
    "        r[z, theta] = np.mean(r_unprocessed[z, theta, (r_unprocessed[z,theta,:]!=None)])\n"
   ]
  },
  {
   "cell_type": "code",
   "execution_count": null,
   "metadata": {},
   "outputs": [],
   "source": [
    "r_unprocessed"
   ]
  },
  {
   "cell_type": "code",
   "execution_count": null,
   "metadata": {},
   "outputs": [],
   "source": [
    "r"
   ]
  },
  {
   "cell_type": "code",
   "execution_count": null,
   "metadata": {},
   "outputs": [],
   "source": [
    "# distances converted to radius measurements\n",
    "r = sensor2CenterDistance - r\n",
    "\n",
    "# matrix of theta values same shape as r\n",
    "theta = np.arange(0, r.shape[1]*dtheta, dtheta)\n",
    "theta = np.tile(theta, (r.shape[0], 1))\n",
    "\n",
    "# matrix of z values same shape as r\n",
    "z = np.arange(start=0, stop=r.shape[0]*dz, step=dz)\n",
    "z = np.transpose(np.tile(z, (r.shape[1], 1)))\n",
    "\n",
    "# cylindrical to cartesian \n",
    "x = r*np.cos(np.deg2rad(theta))\n",
    "y = r*np.sin(np.deg2rad(theta))\n",
    "\n",
    "\n",
    "pc_data_unfiltered=np.array( list(zip(x.flatten(), y.flatten(), z.flatten())))\n"
   ]
  },
  {
   "cell_type": "code",
   "execution_count": null,
   "metadata": {},
   "outputs": [],
   "source": [
    "len(r)"
   ]
  },
  {
   "cell_type": "code",
   "execution_count": null,
   "metadata": {},
   "outputs": [],
   "source": [
    "len(theta)"
   ]
  },
  {
   "cell_type": "code",
   "execution_count": null,
   "metadata": {},
   "outputs": [],
   "source": [
    "layer_theta = np.split(theta,51)\n",
    "layer_r = np.split(r, 51)"
   ]
  },
  {
   "cell_type": "code",
   "execution_count": null,
   "metadata": {},
   "outputs": [],
   "source": [
    "plt.scatter(x,z,s=100)"
   ]
  },
  {
   "cell_type": "code",
   "execution_count": null,
   "metadata": {},
   "outputs": [],
   "source": [
    "unfiltered_cloud = pv.PolyData(pc_data_unfiltered)\n",
    "unfiltered_cloud.plot()"
   ]
  },
  {
   "cell_type": "code",
   "execution_count": null,
   "metadata": {},
   "outputs": [],
   "source": [
    "# filtering\n",
    "for i in range(0, x.shape[0]):\n",
    "    if np.sum(np.isnan(x[i, :]))==x.shape[1]:\n",
    "        x[i:, :]=[]\n",
    "        y[i:, :]= []\n",
    "        z[i:, :]= []\n",
    "        break\n",
    "\n",
    "for i in range(0, x.shape[0]):\n",
    "    lastIdx = np.argmax(~np.isnan(x[i,:]))\n",
    "    lastX = x[i, lastIdx]\n",
    "    lastY = y[i, lastIdx]\n",
    "    for j in range(0, x.shape[1]):\n",
    "        if ~np.isnan(x[i,j]):\n",
    "            lastX = x[i,j]\n",
    "            lastY = y[i,j]\n",
    "        else:\n",
    "            x[i,j] = lastX\n",
    "            y[i,j] = lastY\n",
    "\n",
    "\n",
    "interpIdx = np.arange(0, x.shape[0], 1)\n",
    "xInterp = x[interpIdx, :]\n",
    "yInterp = y[interpIdx, :]\n",
    "zInterp = z[interpIdx, :]\n",
    "\n",
    "window_size = 2\n",
    "\n",
    "h = np.ones((window_size, window_size))/ (window_size**2)\n",
    "\n",
    "# symmetric padding along rows\n",
    "xInterp = np.pad(xInterp, ((0,0), (window_size, window_size)), mode='symmetric')\n",
    "yInterp = np.pad(yInterp, ((0,0), (window_size, window_size)), mode='symmetric')\n",
    "\n",
    "xInterp = convolve2d(xInterp, h)\n",
    "yInterp = convolve2d(yInterp, h)\n",
    "\n",
    "xInterp = xInterp[:, window_size:-window_size]\n",
    "yInterp = yInterp[:, window_size:-window_size]\n",
    "\n",
    "\n",
    "xInterp[:, -1]=xInterp[:, 0]\n",
    "yInterp[:, -1]=yInterp[:, 0]\n",
    "zInterp[:, -1]=zInterp[:, 0]\n",
    "\n",
    "xTop = np.mean(xInterp[-1, :])\n",
    "yTop = np.mean(yInterp[-1, :])\n",
    "zTop = zInterp[-1, 0]\n",
    "\n",
    "pc_list = list(zip(xInterp.flatten(), yInterp.flatten(), zInterp.flatten()))\n",
    "pc_list.append((xTop, yTop, zTop))\n",
    "\n",
    "pc_data = np.array(pc_list)\n",
    "\n",
    "# cloud = pv.PolyData(pc_data)\n",
    "cloud = pv.PolyData(pc_data)\n",
    "cloud.plot()\n",
    "\n",
    "# if input(\"create a mesh object? (yes/no): \")=='yes':\n",
    "#     volume = cloud.delaunay_3d()\n",
    "#     shell = volume.extract_geometry()\n",
    "#     shell.plot()\n",
    "\n",
    "# if input(\"Plot the mesh of the unfiltered? (yes/no): \")=='yes':\n",
    "#     uf_cloud = pv.PolyData(pc_data_unfiltered)\n",
    "#     volume =uf_cloud.delaunay_3d()\n",
    "#     shell = volume.extract_geometry()\n",
    "#     shell.plot()"
   ]
  },
  {
   "cell_type": "markdown",
   "metadata": {},
   "source": [
    "# Center Test"
   ]
  },
  {
   "cell_type": "code",
   "execution_count": null,
   "metadata": {},
   "outputs": [],
   "source": [
    "raw_data = np.loadtxt('center_test.txt') \n",
    "\n",
    "raw_data = np.array(raw_data)\n",
    "raw_data[raw_data<minDistance] = None\n",
    "indices = np.where(raw_data==delimiter)\n",
    "raw_data[raw_data>maxDistance]= None #maxDistance\n",
    "indices = indices[0]\n",
    "\n"
   ]
  },
  {
   "cell_type": "code",
   "execution_count": null,
   "metadata": {},
   "outputs": [],
   "source": [
    "raw_data.shape"
   ]
  },
  {
   "cell_type": "code",
   "execution_count": null,
   "metadata": {},
   "outputs": [],
   "source": [
    "r_unprocessed = np.zeros((len(indices)-1, int(indices[0]/txPerScan), txPerScan))\n",
    "r = np.zeros((len(indices)-1, indices[0]))\n",
    "\n",
    "for z in range(r_unprocessed.shape[0]):\n",
    "    for theta in range(r_unprocessed.shape[1]):\n",
    "        for scan in range(r_unprocessed.shape[2]):\n",
    "            try:\n",
    "                r_unprocessed[z, theta, scan] = raw_data[z*r_unprocessed.shape[1] + theta*r_unprocessed.shape[2] + scan]\n",
    "            except IndexError:\n",
    "                print(f'z = {z}, theta = {theta}, scan = {scan}')\n"
   ]
  },
  {
   "cell_type": "markdown",
   "metadata": {},
   "source": []
  },
  {
   "cell_type": "code",
   "execution_count": null,
   "metadata": {},
   "outputs": [],
   "source": []
  }
 ],
 "metadata": {
  "kernelspec": {
   "display_name": "Python 3",
   "language": "python",
   "name": "python3"
  },
  "language_info": {
   "codemirror_mode": {
    "name": "ipython",
    "version": 3
   },
   "file_extension": ".py",
   "mimetype": "text/x-python",
   "name": "python",
   "nbconvert_exporter": "python",
   "pygments_lexer": "ipython3",
   "version": "3.10.13"
  }
 },
 "nbformat": 4,
 "nbformat_minor": 2
}
