{
 "cells": [
  {
   "cell_type": "code",
   "execution_count": 34,
   "metadata": {},
   "outputs": [],
   "source": [
    "import numpy as np\n",
    "import matplotlib.pyplot as plt\n",
    "from scipy.signal import convolve2d"
   ]
  },
  {
   "cell_type": "code",
   "execution_count": 36,
   "metadata": {},
   "outputs": [
    {
     "name": "stdout",
     "output_type": "stream",
     "text": [
      "[7.300e+00 7.230e+00 7.230e+00 ... 8.410e+00 8.410e+00 9.999e+03]\n"
     ]
    }
   ],
   "source": [
    "delimiter = 9999.0\n",
    "\n",
    "maxDistance = 20\n",
    "minDistance = 0\n",
    "sensor2CenterDistance = 10.3\n",
    "\n",
    "dtheta = 1.8\n",
    "dz = 0.1\n",
    "\n",
    "raw_data = []\n",
    "\n",
    "with open('farmer.txt') as f:\n",
    "    [raw_data.append(float(line.strip())) for line in f.readlines()]\n",
    "\n",
    "raw_data = np.array(raw_data)\n",
    "print(raw_data)\n",
    "\n",
    "raw_data = np.array(raw_data)\n",
    "raw_data[raw_data<0] = 0\n",
    "indices = np.where(raw_data==delimiter)\n",
    "indices = indices[0]\n",
    "\n",
    "r = np.zeros((len(indices)-1, indices[0]))\n",
    "\n",
    "r[0,:] = raw_data[0:indices[0]]\n",
    "for i in range(1,len(indices)-1):\n",
    "    r[i,:] = raw_data[indices[i-1]+1:indices[i]]\n",
    "\n",
    "# distances converted to radius measurements\n",
    "r = sensor2CenterDistance - r\n",
    "\n",
    "# matrix of theta values same shape as r\n",
    "theta = np.arange(0, r.shape[1]*dtheta, dtheta)\n",
    "theta = np.tile(theta, (r.shape[0], 1))\n",
    "\n",
    "# matrix of z values same shape as r\n",
    "z = np.arange(start=0, stop=r.shape[0]*dz, step=dz)\n",
    "z = np.transpose(np.tile(z, (r.shape[1], 1)))\n",
    "\n",
    "# cylindrical to cartesian \n",
    "x = r*np.cos(np.deg2rad(theta))\n",
    "y = r*np.sin(np.deg2rad(theta))\n"
   ]
  },
  {
   "cell_type": "code",
   "execution_count": 25,
   "metadata": {},
   "outputs": [],
   "source": [
    "for i in range(0, x.shape[0]):\n",
    "    if np.sum(np.isnan(x[i, :]))==x.shape[1]:\n",
    "        x[i:, :]=[]\n",
    "        y[i:, :]= []\n",
    "        z[i:, :]= []\n",
    "        break\n",
    "\n",
    "for i in range(0, x.shape[0]):\n",
    "    lastIdx = np.argmax(~np.isnan(x[i,:]))\n",
    "    lastX = x[i, lastIdx]\n",
    "    lastY = y[i, lastIdx]\n",
    "    for j in range(0, x.shape[1]):\n",
    "        if ~np.isnan(x[i,j]):\n",
    "            lastX = x[i,j]\n",
    "            lastY = y[i,j]\n",
    "        else:\n",
    "            x[i,j] = lastX\n",
    "            y[i,j] = lastY\n",
    "\n",
    "    \n",
    "interpIdx = np.arange(0, x.shape[0], 1)\n",
    "xInterp = x[interpIdx, :]\n",
    "yInterp = y[interpIdx, :]\n",
    "zInterp = z[interpIdx, :]\n",
    "\n",
    "window_size = 2\n",
    "\n",
    "h = np.ones((window_size, window_size))/ (window_size**2)\n",
    "\n",
    "# symmetric padding along rows\n",
    "xInterp = np.pad(xInterp, ((0,0), (window_size, window_size)), mode='symmetric')\n",
    "yInterp = np.pad(yInterp, ((0,0), (window_size, window_size)), mode='symmetric')\n",
    "\n",
    "xInterp = convolve2d(xInterp, h)\n",
    "yInterp = convolve2d(yInterp, h)\n",
    "\n",
    "xInterp = xInterp[:, window_size:-window_size]\n",
    "yInterp = yInterp[:, window_size:-window_size]\n",
    "\n",
    "\n",
    "xInterp[:, -1]=xInterp[:, 0]\n",
    "yInterp[:, -1]=yInterp[:, 0]\n",
    "zInterp[:, -1]=zInterp[:, 0]\n",
    "\n",
    "xTop = np.mean(xInterp[-1, :])\n",
    "yTop = np.mean(yInterp[-1, :])\n",
    "zTop = zInterp[-1, 0]\n",
    "\n",
    "pc_list = list(zip(xInterp.flatten(), yInterp.flatten(), zInterp.flatten()))\n",
    "pc_list.append((xTop, yTop, zTop))\n",
    "\n",
    "pc_data = np.array(pc_list)"
   ]
  },
  {
   "cell_type": "code",
   "execution_count": 40,
   "metadata": {},
   "outputs": [],
   "source": [
    "\n",
    "\n",
    "\n",
    "\n",
    "\n"
   ]
  },
  {
   "cell_type": "code",
   "execution_count": 96,
   "metadata": {},
   "outputs": [],
   "source": []
  },
  {
   "cell_type": "code",
   "execution_count": 97,
   "metadata": {},
   "outputs": [
    {
     "name": "stdout",
     "output_type": "stream",
     "text": [
      "(77, 200)\n",
      "(77, 200)\n",
      "(77, 200)\n"
     ]
    }
   ],
   "source": [
    "print(z.shape)\n",
    "print(x.shape)\n",
    "print(y.shape)"
   ]
  },
  {
   "cell_type": "code",
   "execution_count": 38,
   "metadata": {},
   "outputs": [],
   "source": []
  },
  {
   "cell_type": "code",
   "execution_count": 39,
   "metadata": {},
   "outputs": [
    {
     "data": {
      "text/plain": [
       "(0, 0, 0)"
      ]
     },
     "execution_count": 39,
     "metadata": {},
     "output_type": "execute_result"
    }
   ],
   "source": []
  },
  {
   "cell_type": "code",
   "execution_count": 45,
   "metadata": {},
   "outputs": [
    {
     "data": {
      "text/plain": [
       "(array([], dtype=int64),)"
      ]
     },
     "execution_count": 45,
     "metadata": {},
     "output_type": "execute_result"
    }
   ],
   "source": [
    " !pip install "
   ]
  },
  {
   "cell_type": "code",
   "execution_count": 36,
   "metadata": {},
   "outputs": [],
   "source": []
  },
  {
   "cell_type": "code",
   "execution_count": 38,
   "metadata": {},
   "outputs": [
    {
     "ename": "IndexError",
     "evalue": "tuple index out of range",
     "output_type": "error",
     "traceback": [
      "\u001b[1;31m---------------------------------------------------------------------------\u001b[0m",
      "\u001b[1;31mIndexError\u001b[0m                                Traceback (most recent call last)",
      "\u001b[1;32m<ipython-input-38-bc2a673b3295>\u001b[0m in \u001b[0;36m<module>\u001b[1;34m\u001b[0m\n\u001b[1;32m----> 1\u001b[1;33m \u001b[0mout\u001b[0m\u001b[1;33m[\u001b[0m\u001b[1;36m1\u001b[0m\u001b[1;33m]\u001b[0m\u001b[1;33m\u001b[0m\u001b[1;33m\u001b[0m\u001b[0m\n\u001b[0m",
      "\u001b[1;31mIndexError\u001b[0m: tuple index out of range"
     ]
    }
   ],
   "source": []
  },
  {
   "cell_type": "code",
   "execution_count": null,
   "metadata": {},
   "outputs": [],
   "source": []
  }
 ],
 "metadata": {
  "kernelspec": {
   "display_name": "Python 3",
   "language": "python",
   "name": "python3"
  },
  "language_info": {
   "codemirror_mode": {
    "name": "ipython",
    "version": 3
   },
   "file_extension": ".py",
   "mimetype": "text/x-python",
   "name": "python",
   "nbconvert_exporter": "python",
   "pygments_lexer": "ipython3",
   "version": "3.9.2"
  }
 },
 "nbformat": 4,
 "nbformat_minor": 2
}
